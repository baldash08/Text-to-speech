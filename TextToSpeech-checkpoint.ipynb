{
 "cells": [
  {
   "cell_type": "markdown",
   "id": "7266fec5-c3e4-462b-8679-a5deb7ce210e",
   "metadata": {},
   "source": [
    "# 0. Install Dependecies"
   ]
  },
  {
   "cell_type": "code",
   "execution_count": null,
   "id": "56a77df6-e32c-4ebf-a48b-5df36d474c8b",
   "metadata": {},
   "outputs": [],
   "source": [
    "!pip install ibm_watson"
   ]
  },
  {
   "cell_type": "markdown",
   "id": "c89943b0-a0f7-4f62-83c3-35d70894244c",
   "metadata": {},
   "source": [
    "# 1. Authenticate"
   ]
  },
  {
   "cell_type": "markdown",
   "id": "3348da0e-b479-4335-bdb8-efab46ead101",
   "metadata": {},
   "source": [
    "# 2. Convert a String"
   ]
  },
  {
   "cell_type": "markdown",
   "id": "1a4b6a36-3009-4ab3-91fb-a07cb2fcb6ff",
   "metadata": {},
   "source": [
    "# 3. Convert From a File"
   ]
  },
  {
   "cell_type": "markdown",
   "id": "81626b59-5794-45f1-9ea4-cfab938f0de5",
   "metadata": {},
   "source": [
    "# 4. Using New Language Models"
   ]
  },
  {
   "cell_type": "code",
   "execution_count": null,
   "id": "807833d1-dd7d-4f27-84a8-e2ccd2bb0e48",
   "metadata": {},
   "outputs": [],
   "source": []
  }
 ],
 "metadata": {
  "kernelspec": {
   "display_name": "Python 3 (ipykernel)",
   "language": "python",
   "name": "python3"
  },
  "language_info": {
   "codemirror_mode": {
    "name": "ipython",
    "version": 3
   },
   "file_extension": ".py",
   "mimetype": "text/x-python",
   "name": "python",
   "nbconvert_exporter": "python",
   "pygments_lexer": "ipython3",
   "version": "3.11.7"
  }
 },
 "nbformat": 4,
 "nbformat_minor": 5
}
